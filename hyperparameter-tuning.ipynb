{
 "cells": [
  {
   "cell_type": "markdown",
   "id": "e8249ebf",
   "metadata": {
    "papermill": {
     "duration": 0.005518,
     "end_time": "2023-05-09T14:47:21.809733",
     "exception": false,
     "start_time": "2023-05-09T14:47:21.804215",
     "status": "completed"
    },
    "tags": []
   },
   "source": [
    "### Import Libraries"
   ]
  },
  {
   "cell_type": "code",
   "execution_count": 1,
   "id": "23763456",
   "metadata": {
    "execution": {
     "iopub.execute_input": "2023-05-09T14:47:21.820882Z",
     "iopub.status.busy": "2023-05-09T14:47:21.820294Z",
     "iopub.status.idle": "2023-05-09T14:47:27.247968Z",
     "shell.execute_reply": "2023-05-09T14:47:27.246958Z"
    },
    "papermill": {
     "duration": 5.436528,
     "end_time": "2023-05-09T14:47:27.250675",
     "exception": false,
     "start_time": "2023-05-09T14:47:21.814147",
     "status": "completed"
    },
    "tags": []
   },
   "outputs": [],
   "source": [
    "from tensorflow import keras\n",
    "from keras import layers\n",
    "import tensorflow as tf\n",
    "import numpy as np\n",
    "import pandas as pd\n",
    "import os, shutil, pathlib\n",
    "from sklearn.utils import shuffle\n",
    "from keras import layers\n",
    "import random\n",
    "from IPython.display import clear_output\n",
    "from PIL import Image\n",
    "from skimage import util \n",
    "import matplotlib.pyplot as plt\n",
    "\n",
    "import warnings\n",
    "\n",
    "warnings.filterwarnings(\"ignore\")"
   ]
  },
  {
   "cell_type": "code",
   "execution_count": 2,
   "id": "70e21fa2",
   "metadata": {
    "execution": {
     "iopub.execute_input": "2023-05-09T14:47:27.260974Z",
     "iopub.status.busy": "2023-05-09T14:47:27.260291Z",
     "iopub.status.idle": "2023-05-09T14:47:38.585496Z",
     "shell.execute_reply": "2023-05-09T14:47:38.584420Z"
    },
    "papermill": {
     "duration": 11.333244,
     "end_time": "2023-05-09T14:47:38.587949",
     "exception": false,
     "start_time": "2023-05-09T14:47:27.254705",
     "status": "completed"
    },
    "tags": []
   },
   "outputs": [],
   "source": [
    "!pip install keras-tuner --upgrade\n",
    "clear_output()\n",
    "import keras_tuner"
   ]
  },
  {
   "cell_type": "markdown",
   "id": "b931f1db",
   "metadata": {
    "papermill": {
     "duration": 0.00363,
     "end_time": "2023-05-09T14:47:38.595937",
     "exception": false,
     "start_time": "2023-05-09T14:47:38.592307",
     "status": "completed"
    },
    "tags": []
   },
   "source": [
    "### Set seed"
   ]
  },
  {
   "cell_type": "code",
   "execution_count": 3,
   "id": "306807cf",
   "metadata": {
    "execution": {
     "iopub.execute_input": "2023-05-09T14:47:38.605457Z",
     "iopub.status.busy": "2023-05-09T14:47:38.605138Z",
     "iopub.status.idle": "2023-05-09T14:47:38.610504Z",
     "shell.execute_reply": "2023-05-09T14:47:38.609337Z"
    },
    "papermill": {
     "duration": 0.012252,
     "end_time": "2023-05-09T14:47:38.612664",
     "exception": false,
     "start_time": "2023-05-09T14:47:38.600412",
     "status": "completed"
    },
    "tags": []
   },
   "outputs": [],
   "source": [
    "SEED = 12\n",
    "\n",
    "np.random.seed(SEED)\n",
    "random.seed(SEED)\n",
    "os.environ['PYTHONHASHSEED'] = str(SEED)\n",
    "tf.random.set_seed(SEED)\n",
    "    "
   ]
  },
  {
   "cell_type": "markdown",
   "id": "47de8c78",
   "metadata": {
    "papermill": {
     "duration": 0.004354,
     "end_time": "2023-05-09T14:47:38.620674",
     "exception": false,
     "start_time": "2023-05-09T14:47:38.616320",
     "status": "completed"
    },
    "tags": []
   },
   "source": [
    "### Enable GPUs"
   ]
  },
  {
   "cell_type": "code",
   "execution_count": 4,
   "id": "88f5d427",
   "metadata": {
    "execution": {
     "iopub.execute_input": "2023-05-09T14:47:38.630264Z",
     "iopub.status.busy": "2023-05-09T14:47:38.629207Z",
     "iopub.status.idle": "2023-05-09T14:47:42.322007Z",
     "shell.execute_reply": "2023-05-09T14:47:42.320085Z"
    },
    "papermill": {
     "duration": 3.699782,
     "end_time": "2023-05-09T14:47:42.324246",
     "exception": false,
     "start_time": "2023-05-09T14:47:38.624464",
     "status": "completed"
    },
    "tags": []
   },
   "outputs": [
    {
     "name": "stdout",
     "output_type": "stream",
     "text": [
      "Num GPUs Available:  2\n",
      "num replicas 2\n"
     ]
    }
   ],
   "source": [
    "print(\"Num GPUs Available: \", len(tf.config.list_physical_devices('GPU')))\n",
    "strategy = tf.distribute.MirroredStrategy()\n",
    "print(\"num replicas\", strategy.num_replicas_in_sync)"
   ]
  },
  {
   "cell_type": "markdown",
   "id": "76cbd58e",
   "metadata": {
    "papermill": {
     "duration": 0.003889,
     "end_time": "2023-05-09T14:47:42.332183",
     "exception": false,
     "start_time": "2023-05-09T14:47:42.328294",
     "status": "completed"
    },
    "tags": []
   },
   "source": [
    "### Perform the split and define the target  \n",
    "Cases with cancer, biopsy, or difficult_negative_case are treated a positive label.  \n",
    "The validation split is performed at the patient level."
   ]
  },
  {
   "cell_type": "code",
   "execution_count": 5,
   "id": "eb779441",
   "metadata": {
    "execution": {
     "iopub.execute_input": "2023-05-09T14:47:42.341668Z",
     "iopub.status.busy": "2023-05-09T14:47:42.340833Z",
     "iopub.status.idle": "2023-05-09T14:47:42.689399Z",
     "shell.execute_reply": "2023-05-09T14:47:42.688383Z"
    },
    "papermill": {
     "duration": 0.355959,
     "end_time": "2023-05-09T14:47:42.691910",
     "exception": false,
     "start_time": "2023-05-09T14:47:42.335951",
     "status": "completed"
    },
    "tags": []
   },
   "outputs": [
    {
     "data": {
      "text/html": [
       "<div>\n",
       "<style scoped>\n",
       "    .dataframe tbody tr th:only-of-type {\n",
       "        vertical-align: middle;\n",
       "    }\n",
       "\n",
       "    .dataframe tbody tr th {\n",
       "        vertical-align: top;\n",
       "    }\n",
       "\n",
       "    .dataframe thead th {\n",
       "        text-align: right;\n",
       "    }\n",
       "</style>\n",
       "<table border=\"1\" class=\"dataframe\">\n",
       "  <thead>\n",
       "    <tr style=\"text-align: right;\">\n",
       "      <th></th>\n",
       "      <th>patient_id</th>\n",
       "      <th>site_id</th>\n",
       "      <th>image_id</th>\n",
       "      <th>laterality</th>\n",
       "      <th>view</th>\n",
       "      <th>age</th>\n",
       "      <th>cancer</th>\n",
       "      <th>biopsy</th>\n",
       "      <th>invasive</th>\n",
       "      <th>BIRADS</th>\n",
       "      <th>implant</th>\n",
       "      <th>density</th>\n",
       "      <th>machine_id</th>\n",
       "      <th>difficult_negative_case</th>\n",
       "      <th>path</th>\n",
       "      <th>label</th>\n",
       "    </tr>\n",
       "  </thead>\n",
       "  <tbody>\n",
       "    <tr>\n",
       "      <th>0</th>\n",
       "      <td>19630</td>\n",
       "      <td>2</td>\n",
       "      <td>1121595436</td>\n",
       "      <td>R</td>\n",
       "      <td>CC</td>\n",
       "      <td>67.0</td>\n",
       "      <td>0</td>\n",
       "      <td>0</td>\n",
       "      <td>0</td>\n",
       "      <td>NaN</td>\n",
       "      <td>0</td>\n",
       "      <td>NaN</td>\n",
       "      <td>48</td>\n",
       "      <td>False</td>\n",
       "      <td>/kaggle/input/rsna-extracted-data/train_images...</td>\n",
       "      <td>0</td>\n",
       "    </tr>\n",
       "    <tr>\n",
       "      <th>1</th>\n",
       "      <td>19630</td>\n",
       "      <td>2</td>\n",
       "      <td>1405960470</td>\n",
       "      <td>L</td>\n",
       "      <td>MLO</td>\n",
       "      <td>67.0</td>\n",
       "      <td>0</td>\n",
       "      <td>0</td>\n",
       "      <td>0</td>\n",
       "      <td>NaN</td>\n",
       "      <td>0</td>\n",
       "      <td>NaN</td>\n",
       "      <td>48</td>\n",
       "      <td>False</td>\n",
       "      <td>/kaggle/input/rsna-extracted-data/train_images...</td>\n",
       "      <td>0</td>\n",
       "    </tr>\n",
       "    <tr>\n",
       "      <th>2</th>\n",
       "      <td>19630</td>\n",
       "      <td>2</td>\n",
       "      <td>1655504802</td>\n",
       "      <td>R</td>\n",
       "      <td>MLO</td>\n",
       "      <td>67.0</td>\n",
       "      <td>0</td>\n",
       "      <td>0</td>\n",
       "      <td>0</td>\n",
       "      <td>NaN</td>\n",
       "      <td>0</td>\n",
       "      <td>NaN</td>\n",
       "      <td>48</td>\n",
       "      <td>False</td>\n",
       "      <td>/kaggle/input/rsna-extracted-data/train_images...</td>\n",
       "      <td>0</td>\n",
       "    </tr>\n",
       "    <tr>\n",
       "      <th>3</th>\n",
       "      <td>19630</td>\n",
       "      <td>2</td>\n",
       "      <td>2105722026</td>\n",
       "      <td>L</td>\n",
       "      <td>CC</td>\n",
       "      <td>67.0</td>\n",
       "      <td>0</td>\n",
       "      <td>0</td>\n",
       "      <td>0</td>\n",
       "      <td>NaN</td>\n",
       "      <td>0</td>\n",
       "      <td>NaN</td>\n",
       "      <td>48</td>\n",
       "      <td>False</td>\n",
       "      <td>/kaggle/input/rsna-extracted-data/train_images...</td>\n",
       "      <td>0</td>\n",
       "    </tr>\n",
       "    <tr>\n",
       "      <th>4</th>\n",
       "      <td>19630</td>\n",
       "      <td>2</td>\n",
       "      <td>462258563</td>\n",
       "      <td>R</td>\n",
       "      <td>CC</td>\n",
       "      <td>67.0</td>\n",
       "      <td>0</td>\n",
       "      <td>0</td>\n",
       "      <td>0</td>\n",
       "      <td>NaN</td>\n",
       "      <td>0</td>\n",
       "      <td>NaN</td>\n",
       "      <td>48</td>\n",
       "      <td>False</td>\n",
       "      <td>/kaggle/input/rsna-extracted-data/train_images...</td>\n",
       "      <td>0</td>\n",
       "    </tr>\n",
       "  </tbody>\n",
       "</table>\n",
       "</div>"
      ],
      "text/plain": [
       "   patient_id  site_id    image_id laterality view   age  cancer  biopsy  \\\n",
       "0       19630        2  1121595436          R   CC  67.0       0       0   \n",
       "1       19630        2  1405960470          L  MLO  67.0       0       0   \n",
       "2       19630        2  1655504802          R  MLO  67.0       0       0   \n",
       "3       19630        2  2105722026          L   CC  67.0       0       0   \n",
       "4       19630        2   462258563          R   CC  67.0       0       0   \n",
       "\n",
       "   invasive  BIRADS  implant density  machine_id  difficult_negative_case  \\\n",
       "0         0     NaN        0     NaN          48                    False   \n",
       "1         0     NaN        0     NaN          48                    False   \n",
       "2         0     NaN        0     NaN          48                    False   \n",
       "3         0     NaN        0     NaN          48                    False   \n",
       "4         0     NaN        0     NaN          48                    False   \n",
       "\n",
       "                                                path  label  \n",
       "0  /kaggle/input/rsna-extracted-data/train_images...      0  \n",
       "1  /kaggle/input/rsna-extracted-data/train_images...      0  \n",
       "2  /kaggle/input/rsna-extracted-data/train_images...      0  \n",
       "3  /kaggle/input/rsna-extracted-data/train_images...      0  \n",
       "4  /kaggle/input/rsna-extracted-data/train_images...      0  "
      ]
     },
     "execution_count": 5,
     "metadata": {},
     "output_type": "execute_result"
    }
   ],
   "source": [
    "from sklearn.model_selection import StratifiedShuffleSplit\n",
    "base_dir = \"/kaggle/input/rsna-extracted-data/train_images_extracted_1024/\"\n",
    "# read in csv data\n",
    "df = pd.read_csv(\"/kaggle/input/rsna-breast-cancer-detection/train.csv\")\n",
    "df[\"path\"] = base_dir + df.patient_id.astype(\"str\") +\"/\"+ df.image_id.astype(\"str\") +\".png\"\n",
    "df = df.sort_values(\"path\",ascending=True)\n",
    "\n",
    "# create new label column\n",
    "df[\"label\"] = 0\n",
    "df.loc[(df.cancer==1) | (df.biopsy ==1)|(df.difficult_negative_case ==True),\"label\"] = 1\n",
    "\n",
    "split_df = df[[\"patient_id\",\"age\",\"cancer\",\"biopsy\",\"invasive\",\"BIRADS\"\n",
    "              ,\"site_id\",\"machine_id\"]]\n",
    "\n",
    "# perform a straified split for balance\n",
    "sss = StratifiedShuffleSplit(n_splits=1, test_size=0.2, random_state=12)\n",
    "split_df = split_df.groupby(\"patient_id\").max()\n",
    "X = split_df\n",
    "y = split_df.pop(\"cancer\")\n",
    "\n",
    "\n",
    "for (train_index, test_index) in sss.split(X, y):\n",
    "    train_patients = pd.DataFrame({\"patient_id\": X.iloc[train_index].index})\n",
    "    val_patients = pd.DataFrame({\"patient_id\":X.iloc[test_index].index})\n",
    "    \n",
    "# merge the image level info onto the patient level splits\n",
    "val_df = val_patients.merge(df, on =\"patient_id\",how = \"left\")\n",
    "train_df = train_patients.merge(df, on =\"patient_id\",how = \"left\")\n",
    "\n",
    "val_df.head()"
   ]
  },
  {
   "cell_type": "markdown",
   "id": "52eff02c",
   "metadata": {
    "papermill": {
     "duration": 0.00449,
     "end_time": "2023-05-09T14:47:42.700822",
     "exception": false,
     "start_time": "2023-05-09T14:47:42.696332",
     "status": "completed"
    },
    "tags": []
   },
   "source": [
    "### Fix paths which failed to save during extraction"
   ]
  },
  {
   "cell_type": "code",
   "execution_count": 6,
   "id": "dd4de1f1",
   "metadata": {
    "execution": {
     "iopub.execute_input": "2023-05-09T14:47:42.711934Z",
     "iopub.status.busy": "2023-05-09T14:47:42.711096Z",
     "iopub.status.idle": "2023-05-09T14:49:09.037155Z",
     "shell.execute_reply": "2023-05-09T14:49:09.036046Z"
    },
    "papermill": {
     "duration": 86.334349,
     "end_time": "2023-05-09T14:49:09.039600",
     "exception": false,
     "start_time": "2023-05-09T14:47:42.705251",
     "status": "completed"
    },
    "tags": []
   },
   "outputs": [
    {
     "name": "stdout",
     "output_type": "stream",
     "text": [
      "Replaced 2 paths\n",
      "Replaced 3 paths\n"
     ]
    }
   ],
   "source": [
    "def check_and_correct_paths(df):\n",
    "    corrected_df = df.copy()\n",
    "    replaced_count = 0\n",
    "\n",
    "    for index, row in corrected_df.iterrows():\n",
    "        path = row['path']\n",
    "        \n",
    "        if not os.path.exists(path):\n",
    "            patient, image = path.split('/')[-2:]\n",
    "            alternative_path = f'/kaggle/input/rsna-custom-pipeline4/train_images_processed_1024/{patient}/{image}'\n",
    "\n",
    "            if os.path.exists(alternative_path):\n",
    "                corrected_df.loc[index, 'path'] = alternative_path\n",
    "                replaced_count += 1\n",
    "            else:\n",
    "                print(f\"Both paths not found for patient {patient} and image {image}\")\n",
    "\n",
    "    print(f\"Replaced {replaced_count} paths\")\n",
    "    return corrected_df\n",
    "train_df=check_and_correct_paths(train_df)\n",
    "val_df = check_and_correct_paths(val_df)"
   ]
  },
  {
   "cell_type": "markdown",
   "id": "511ade27",
   "metadata": {
    "papermill": {
     "duration": 0.00404,
     "end_time": "2023-05-09T14:49:09.048007",
     "exception": false,
     "start_time": "2023-05-09T14:49:09.043967",
     "status": "completed"
    },
    "tags": []
   },
   "source": [
    "### Build the dataset  \n",
    "Cases with cancer are upsampled (but not with biopsy or difficult_negative_case)"
   ]
  },
  {
   "cell_type": "code",
   "execution_count": 7,
   "id": "44253fc5",
   "metadata": {
    "execution": {
     "iopub.execute_input": "2023-05-09T14:49:09.057882Z",
     "iopub.status.busy": "2023-05-09T14:49:09.057595Z",
     "iopub.status.idle": "2023-05-09T14:49:09.646125Z",
     "shell.execute_reply": "2023-05-09T14:49:09.645144Z"
    },
    "papermill": {
     "duration": 0.596465,
     "end_time": "2023-05-09T14:49:09.648814",
     "exception": false,
     "start_time": "2023-05-09T14:49:09.052349",
     "status": "completed"
    },
    "tags": []
   },
   "outputs": [],
   "source": [
    "def decode(path, img_size = (1024,1024)):\n",
    "    file_bytes = tf.io.read_file(path)\n",
    "    img = tf.image.decode_png(file_bytes, channels=3)\n",
    "    img = tf.image.resize(img, img_size)\n",
    "    return img\n",
    "\n",
    "def decode_with_labels(path, label):\n",
    "    return decode(path), tf.cast(label, tf.float32)\n",
    "\n",
    "def build_dataset(paths,decode_fn, labels=None,batch_size=32, img_size = (1024,1024)):\n",
    "    slices = paths if labels is None else (paths, labels)    \n",
    "    ds = tf.data.Dataset.from_tensor_slices(slices)\n",
    "    ds = ds.map(decode_fn, num_parallel_calls=2)\n",
    "    ds = ds.batch(batch_size, drop_remainder=False)\n",
    "    return ds\n",
    "\n",
    "def upsample(train_paths, train_labels,cancer_paths_train,cancer_labels_train, upsamples=8):\n",
    "\n",
    "    for _ in range(upsamples):\n",
    "        train_paths += cancer_paths_train\n",
    "        train_labels += cancer_labels_train\n",
    "        \n",
    "    random.Random(SEED).shuffle(train_paths)\n",
    "    random.Random(SEED).shuffle(train_labels)\n",
    "    return train_paths, train_labels\n",
    "    \n",
    "    \n",
    "\n",
    "img_size = (1024,1024)\n",
    "\n",
    "val_paths = list(val_df.path)\n",
    "val_labels = list(val_df.cancer)\n",
    "\n",
    "cancer_instances = train_df.loc[train_df.cancer==1]\n",
    "\n",
    "cancer_paths_train = list(cancer_instances.path)\n",
    "cancer_labels_train = list(cancer_instances.cancer)\n",
    "\n",
    "train_paths = list(train_df.path)\n",
    "train_labels = list(train_df.label)\n",
    "\n",
    "train_paths, train_labels = upsample(train_paths, train_labels,\n",
    "                                     cancer_paths_train,cancer_labels_train)\n",
    "\n",
    "val_ds = build_dataset(val_paths,decode_with_labels ,labels = val_labels, batch_size=32)\n",
    "train_ds = build_dataset(train_paths,decode_with_labels, labels=train_labels, batch_size=32)"
   ]
  },
  {
   "cell_type": "markdown",
   "id": "d5896f15",
   "metadata": {
    "papermill": {
     "duration": 0.004219,
     "end_time": "2023-05-09T14:49:09.657725",
     "exception": false,
     "start_time": "2023-05-09T14:49:09.653506",
     "status": "completed"
    },
    "tags": []
   },
   "source": [
    "### Model building functions"
   ]
  },
  {
   "cell_type": "code",
   "execution_count": 8,
   "id": "2a1b42ab",
   "metadata": {
    "execution": {
     "iopub.execute_input": "2023-05-09T14:49:09.670106Z",
     "iopub.status.busy": "2023-05-09T14:49:09.668355Z",
     "iopub.status.idle": "2023-05-09T14:49:09.682185Z",
     "shell.execute_reply": "2023-05-09T14:49:09.681294Z"
    },
    "papermill": {
     "duration": 0.022019,
     "end_time": "2023-05-09T14:49:09.684234",
     "exception": false,
     "start_time": "2023-05-09T14:49:09.662215",
     "status": "completed"
    },
    "tags": []
   },
   "outputs": [],
   "source": [
    "def get_data_augmentation():\n",
    "    data_augmentation = keras.Sequential(\n",
    "        [\n",
    "        layers.RandomRotation(0.1),\n",
    "\n",
    "        ]\n",
    "    )\n",
    "    return data_augmentation\n",
    "\n",
    "from keras import backend as K\n",
    "\n",
    "def pfbeta_tf(labels, preds, beta=1):\n",
    "    preds = tf.clip_by_value(preds, 0, 1)\n",
    "    y_true_count = tf.reduce_sum(labels)\n",
    "    ctp = tf.reduce_sum(preds[labels==1])\n",
    "    cfp = tf.reduce_sum(preds[labels==0])\n",
    "    beta_squared = beta * beta\n",
    "    c_precision = ctp / (ctp + cfp)\n",
    "    c_recall = ctp / y_true_count\n",
    "    if (c_precision > 0 and c_recall > 0):\n",
    "        result = (1 + beta_squared) * (c_precision * c_recall) / (beta_squared * c_precision + c_recall)\n",
    "        return result\n",
    "    else:\n",
    "        return 0.0\n",
    "\n",
    "\n",
    "def get_conv_base():\n",
    "    conv_base = keras.applications.ResNet50V2(\n",
    "    include_top=False,\n",
    "    weights='imagenet',\n",
    "    input_shape=(*img_size,3),\n",
    "    #drop_connect_rate=0.4,\n",
    "    )\n",
    "\n",
    "    trainable_layers = 45\n",
    "\n",
    "    for layer in conv_base.layers[:-trainable_layers]:\n",
    "        layer.trainable = False\n",
    "    \n",
    "    for layer in conv_base.layers[-trainable_layers:]:\n",
    "        if not isinstance(layer, layers.BatchNormalization):\n",
    "            layer.trainable = True\n",
    "    return conv_base\n",
    "\n",
    "def get_metrics():\n",
    "    auc= tf.keras.metrics.AUC(\n",
    "    num_thresholds=200,\n",
    "    curve='ROC',\n",
    "    summation_method='interpolation',\n",
    "    name=None,\n",
    "    dtype=None,\n",
    "    thresholds=None,\n",
    "    multi_label=False,\n",
    "    num_labels=None,\n",
    "    label_weights=None,\n",
    "    from_logits=False\n",
    "    )\n",
    "\n",
    "    recall = .5\n",
    "\n",
    "    precision = tf.keras.metrics.PrecisionAtRecall(\n",
    "        recall, num_thresholds=200, class_id=None, name=None, dtype=None\n",
    "    )\n",
    "    metrics = [auc,precision, pfbeta_tf]\n",
    "    return metrics\n",
    "\n",
    "def get_optimizer(lr=1e-4):\n",
    "    optimizer = tf.keras.optimizers.Adam(\n",
    "    learning_rate=lr,\n",
    "    beta_1=0.9,\n",
    "    beta_2=0.999,\n",
    "    )\n",
    "    return optimizer\n",
    "\n",
    "def get_loss():\n",
    "    loss_fn = tf.keras.losses.BinaryCrossentropy(\n",
    "    label_smoothing=0.0,)\n",
    "    return loss_fn"
   ]
  },
  {
   "cell_type": "markdown",
   "id": "c6d7fdac",
   "metadata": {
    "papermill": {
     "duration": 0.004376,
     "end_time": "2023-05-09T14:49:09.692944",
     "exception": false,
     "start_time": "2023-05-09T14:49:09.688568",
     "status": "completed"
    },
    "tags": []
   },
   "source": [
    "### Build and tune the model"
   ]
  },
  {
   "cell_type": "code",
   "execution_count": 9,
   "id": "3d53c9a0",
   "metadata": {
    "execution": {
     "iopub.execute_input": "2023-05-09T14:49:09.703560Z",
     "iopub.status.busy": "2023-05-09T14:49:09.702669Z",
     "iopub.status.idle": "2023-05-09T14:49:09.712477Z",
     "shell.execute_reply": "2023-05-09T14:49:09.711047Z"
    },
    "papermill": {
     "duration": 0.01776,
     "end_time": "2023-05-09T14:49:09.714873",
     "exception": false,
     "start_time": "2023-05-09T14:49:09.697113",
     "status": "completed"
    },
    "tags": []
   },
   "outputs": [],
   "source": [
    "def build_model(layer_size=32, dropout=0.3, lr=1e-4):\n",
    "    inputs = keras.Input(shape=(*img_size, 3))\n",
    "\n",
    "    x = keras.applications.resnet_v2.preprocess_input(inputs)\n",
    "\n",
    "    x = get_conv_base()(x)\n",
    "\n",
    "    x = layers.GlobalAveragePooling2D()(x)\n",
    "\n",
    "    x = layers.Dense(layer_size)(x)\n",
    "    x = layers.BatchNormalization()(x)\n",
    "    x = layers.Activation(\"relu\")(x)\n",
    "    x = layers.Dropout(dropout)(x)\n",
    "\n",
    "\n",
    "    outputs = layers.Dense(1, activation=\"sigmoid\")(x)\n",
    "\n",
    "    model = keras.Model(inputs=inputs, outputs=outputs)\n",
    "    \n",
    "    model.compile(loss=\"binary_crossentropy\",\n",
    "              optimizer=get_optimizer(lr),\n",
    "              metrics=get_metrics())\n",
    "    \n",
    "    return model \n",
    "\n",
    "def build_model_w_tuning(hp):\n",
    "    with strategy.scope():\n",
    "        model = build_model(layer_size=hp.Choice('train_layers', [16,32,128] ), \n",
    "                            dropout=hp.Choice('dropout', [0.0,0.3,0.5] ), \n",
    "                            lr=hp.Float(\"learning_rate\",\n",
    "                                        min_value=1e-5,\n",
    "                                        max_value=1e-3,\n",
    "                                        sampling=\"log\")\n",
    "                                                        )\n",
    "    return model"
   ]
  },
  {
   "cell_type": "markdown",
   "id": "c0e1ec9e",
   "metadata": {
    "papermill": {
     "duration": 0.004021,
     "end_time": "2023-05-09T14:49:09.723136",
     "exception": false,
     "start_time": "2023-05-09T14:49:09.719115",
     "status": "completed"
    },
    "tags": []
   },
   "source": [
    "This is the maximum amount of tuning trials and epochs that can be run within the 12 hour cap on Kaggle notebooks. Empirically, we have found that model reaches convergence after a few epochs, so the small number of epochs works fine."
   ]
  },
  {
   "cell_type": "code",
   "execution_count": 10,
   "id": "5953977b",
   "metadata": {
    "execution": {
     "iopub.execute_input": "2023-05-09T14:49:09.732723Z",
     "iopub.status.busy": "2023-05-09T14:49:09.732457Z",
     "iopub.status.idle": "2023-05-09T22:38:58.987098Z",
     "shell.execute_reply": "2023-05-09T22:38:58.986096Z"
    },
    "papermill": {
     "duration": 28189.274565,
     "end_time": "2023-05-09T22:38:59.001905",
     "exception": false,
     "start_time": "2023-05-09T14:49:09.727340",
     "status": "completed"
    },
    "tags": []
   },
   "outputs": [
    {
     "name": "stdout",
     "output_type": "stream",
     "text": [
      "Trial 4 Complete [01h 58m 52s]\n",
      "val_auc: 0.7052977085113525\n",
      "\n",
      "Best val_auc So Far: 0.7485799193382263\n",
      "Total elapsed time: 07h 49m 45s\n",
      "Results summary\n",
      "Results in ./untitled_project\n",
      "Showing 10 best trials\n",
      "Objective(name=\"val_auc\", direction=\"max\")\n",
      "\n",
      "Trial 1 summary\n",
      "Hyperparameters:\n",
      "train_layers: 16\n",
      "dropout: 0.3\n",
      "learning_rate: 0.00016449982036188414\n",
      "Score: 0.7485799193382263\n",
      "\n",
      "Trial 0 summary\n",
      "Hyperparameters:\n",
      "train_layers: 128\n",
      "dropout: 0.5\n",
      "learning_rate: 1.3236614364006188e-05\n",
      "Score: 0.7367491722106934\n",
      "\n",
      "Trial 2 summary\n",
      "Hyperparameters:\n",
      "train_layers: 128\n",
      "dropout: 0.0\n",
      "learning_rate: 8.531941855305935e-05\n",
      "Score: 0.7082393169403076\n",
      "\n",
      "Trial 3 summary\n",
      "Hyperparameters:\n",
      "train_layers: 128\n",
      "dropout: 0.3\n",
      "learning_rate: 1.3381452948593074e-05\n",
      "Score: 0.7052977085113525\n",
      "None\n"
     ]
    }
   ],
   "source": [
    "tuner = keras_tuner.RandomSearch(\n",
    "    build_model_w_tuning,\n",
    "    objective=keras_tuner.Objective(\"val_auc\", direction=\"max\"),\n",
    "    max_trials=4)\n",
    "\n",
    "NUM_EPOCHS = 3\n",
    "tuner.search(train_ds, epochs=NUM_EPOCHS, validation_data=val_ds)\n",
    "\n",
    "print(tuner.results_summary())"
   ]
  }
 ],
 "metadata": {
  "kernelspec": {
   "display_name": "Python 3",
   "language": "python",
   "name": "python3"
  },
  "language_info": {
   "codemirror_mode": {
    "name": "ipython",
    "version": 3
   },
   "file_extension": ".py",
   "mimetype": "text/x-python",
   "name": "python",
   "nbconvert_exporter": "python",
   "pygments_lexer": "ipython3",
   "version": "3.7.12"
  },
  "papermill": {
   "default_parameters": {},
   "duration": 28309.565277,
   "end_time": "2023-05-09T22:39:03.409804",
   "environment_variables": {},
   "exception": null,
   "input_path": "__notebook__.ipynb",
   "output_path": "__notebook__.ipynb",
   "parameters": {},
   "start_time": "2023-05-09T14:47:13.844527",
   "version": "2.3.4"
  }
 },
 "nbformat": 4,
 "nbformat_minor": 5
}
