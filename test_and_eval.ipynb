{
 "cells": [
  {
   "cell_type": "markdown",
   "id": "2910bb8f",
   "metadata": {
    "papermill": {
     "duration": 0.008984,
     "end_time": "2023-05-11T19:42:37.206995",
     "exception": false,
     "start_time": "2023-05-11T19:42:37.198011",
     "status": "completed"
    },
    "tags": []
   },
   "source": [
    "### Import Libraries"
   ]
  },
  {
   "cell_type": "code",
   "execution_count": 1,
   "id": "999c4de2",
   "metadata": {
    "execution": {
     "iopub.execute_input": "2023-05-11T19:42:37.225462Z",
     "iopub.status.busy": "2023-05-11T19:42:37.224916Z",
     "iopub.status.idle": "2023-05-11T19:42:44.308931Z",
     "shell.execute_reply": "2023-05-11T19:42:44.307931Z"
    },
    "papermill": {
     "duration": 7.096452,
     "end_time": "2023-05-11T19:42:44.311596",
     "exception": false,
     "start_time": "2023-05-11T19:42:37.215144",
     "status": "completed"
    },
    "tags": []
   },
   "outputs": [],
   "source": [
    "from tensorflow import keras\n",
    "from keras import layers\n",
    "import tensorflow as tf\n",
    "import numpy as np\n",
    "import pandas as pd\n",
    "import os, shutil, pathlib\n",
    "from sklearn.utils import shuffle\n",
    "from keras import layers\n",
    "import random\n",
    "from IPython.display import clear_output\n",
    "from PIL import Image\n",
    "from skimage import util \n",
    "import matplotlib.pyplot as plt\n",
    "\n",
    "import warnings\n",
    "\n",
    "warnings.filterwarnings(\"ignore\")"
   ]
  },
  {
   "cell_type": "markdown",
   "id": "06ff266c",
   "metadata": {
    "papermill": {
     "duration": 0.007466,
     "end_time": "2023-05-11T19:42:44.326767",
     "exception": false,
     "start_time": "2023-05-11T19:42:44.319301",
     "status": "completed"
    },
    "tags": []
   },
   "source": [
    "### Set seed"
   ]
  },
  {
   "cell_type": "code",
   "execution_count": 2,
   "id": "e878dc5e",
   "metadata": {
    "execution": {
     "iopub.execute_input": "2023-05-11T19:42:44.343779Z",
     "iopub.status.busy": "2023-05-11T19:42:44.342574Z",
     "iopub.status.idle": "2023-05-11T19:42:44.349839Z",
     "shell.execute_reply": "2023-05-11T19:42:44.348882Z"
    },
    "papermill": {
     "duration": 0.018061,
     "end_time": "2023-05-11T19:42:44.352176",
     "exception": false,
     "start_time": "2023-05-11T19:42:44.334115",
     "status": "completed"
    },
    "tags": []
   },
   "outputs": [],
   "source": [
    "SEED = 33156\n",
    "\n",
    "np.random.seed(SEED)\n",
    "random.seed(SEED)\n",
    "os.environ['PYTHONHASHSEED'] = str(SEED)\n",
    "tf.random.set_seed(SEED)\n",
    "    "
   ]
  },
  {
   "cell_type": "markdown",
   "id": "c93670b6",
   "metadata": {
    "papermill": {
     "duration": 0.00721,
     "end_time": "2023-05-11T19:42:44.366923",
     "exception": false,
     "start_time": "2023-05-11T19:42:44.359713",
     "status": "completed"
    },
    "tags": []
   },
   "source": [
    "### Enable GPUs"
   ]
  },
  {
   "cell_type": "code",
   "execution_count": 3,
   "id": "a5f69fd4",
   "metadata": {
    "execution": {
     "iopub.execute_input": "2023-05-11T19:42:44.383707Z",
     "iopub.status.busy": "2023-05-11T19:42:44.382747Z",
     "iopub.status.idle": "2023-05-11T19:42:48.569033Z",
     "shell.execute_reply": "2023-05-11T19:42:48.567350Z"
    },
    "papermill": {
     "duration": 4.197301,
     "end_time": "2023-05-11T19:42:48.571703",
     "exception": false,
     "start_time": "2023-05-11T19:42:44.374402",
     "status": "completed"
    },
    "tags": []
   },
   "outputs": [
    {
     "name": "stdout",
     "output_type": "stream",
     "text": [
      "Num GPUs Available:  2\n",
      "num replicas 2\n"
     ]
    }
   ],
   "source": [
    "print(\"Num GPUs Available: \", len(tf.config.list_physical_devices('GPU')))\n",
    "strategy = tf.distribute.MirroredStrategy()\n",
    "print(\"num replicas\", strategy.num_replicas_in_sync)"
   ]
  },
  {
   "cell_type": "markdown",
   "id": "cb6fd2af",
   "metadata": {
    "papermill": {
     "duration": 0.009557,
     "end_time": "2023-05-11T19:42:48.589932",
     "exception": false,
     "start_time": "2023-05-11T19:42:48.580375",
     "status": "completed"
    },
    "tags": []
   },
   "source": [
    "### Perform the split and define the target  \n",
    "Cases with cancer, biopsy, or difficult_negative_case are treated a positive label.  \n",
    "The validation split is performed at the patient level."
   ]
  },
  {
   "cell_type": "code",
   "execution_count": 4,
   "id": "8bbf711d",
   "metadata": {
    "execution": {
     "iopub.execute_input": "2023-05-11T19:42:48.608236Z",
     "iopub.status.busy": "2023-05-11T19:42:48.607353Z",
     "iopub.status.idle": "2023-05-11T19:42:49.131165Z",
     "shell.execute_reply": "2023-05-11T19:42:49.129905Z"
    },
    "papermill": {
     "duration": 0.535701,
     "end_time": "2023-05-11T19:42:49.133814",
     "exception": false,
     "start_time": "2023-05-11T19:42:48.598113",
     "status": "completed"
    },
    "tags": []
   },
   "outputs": [
    {
     "data": {
      "text/html": [
       "<div>\n",
       "<style scoped>\n",
       "    .dataframe tbody tr th:only-of-type {\n",
       "        vertical-align: middle;\n",
       "    }\n",
       "\n",
       "    .dataframe tbody tr th {\n",
       "        vertical-align: top;\n",
       "    }\n",
       "\n",
       "    .dataframe thead th {\n",
       "        text-align: right;\n",
       "    }\n",
       "</style>\n",
       "<table border=\"1\" class=\"dataframe\">\n",
       "  <thead>\n",
       "    <tr style=\"text-align: right;\">\n",
       "      <th></th>\n",
       "      <th>patient_id</th>\n",
       "      <th>site_id</th>\n",
       "      <th>image_id</th>\n",
       "      <th>laterality</th>\n",
       "      <th>view</th>\n",
       "      <th>age</th>\n",
       "      <th>cancer</th>\n",
       "      <th>biopsy</th>\n",
       "      <th>invasive</th>\n",
       "      <th>BIRADS</th>\n",
       "      <th>implant</th>\n",
       "      <th>density</th>\n",
       "      <th>machine_id</th>\n",
       "      <th>difficult_negative_case</th>\n",
       "      <th>path</th>\n",
       "      <th>label</th>\n",
       "    </tr>\n",
       "  </thead>\n",
       "  <tbody>\n",
       "    <tr>\n",
       "      <th>0</th>\n",
       "      <td>19630</td>\n",
       "      <td>2</td>\n",
       "      <td>1121595436</td>\n",
       "      <td>R</td>\n",
       "      <td>CC</td>\n",
       "      <td>67.0</td>\n",
       "      <td>0</td>\n",
       "      <td>0</td>\n",
       "      <td>0</td>\n",
       "      <td>NaN</td>\n",
       "      <td>0</td>\n",
       "      <td>NaN</td>\n",
       "      <td>48</td>\n",
       "      <td>False</td>\n",
       "      <td>/kaggle/input/rsna-extracted-data/train_images...</td>\n",
       "      <td>0</td>\n",
       "    </tr>\n",
       "    <tr>\n",
       "      <th>1</th>\n",
       "      <td>19630</td>\n",
       "      <td>2</td>\n",
       "      <td>1405960470</td>\n",
       "      <td>L</td>\n",
       "      <td>MLO</td>\n",
       "      <td>67.0</td>\n",
       "      <td>0</td>\n",
       "      <td>0</td>\n",
       "      <td>0</td>\n",
       "      <td>NaN</td>\n",
       "      <td>0</td>\n",
       "      <td>NaN</td>\n",
       "      <td>48</td>\n",
       "      <td>False</td>\n",
       "      <td>/kaggle/input/rsna-extracted-data/train_images...</td>\n",
       "      <td>0</td>\n",
       "    </tr>\n",
       "    <tr>\n",
       "      <th>2</th>\n",
       "      <td>19630</td>\n",
       "      <td>2</td>\n",
       "      <td>1655504802</td>\n",
       "      <td>R</td>\n",
       "      <td>MLO</td>\n",
       "      <td>67.0</td>\n",
       "      <td>0</td>\n",
       "      <td>0</td>\n",
       "      <td>0</td>\n",
       "      <td>NaN</td>\n",
       "      <td>0</td>\n",
       "      <td>NaN</td>\n",
       "      <td>48</td>\n",
       "      <td>False</td>\n",
       "      <td>/kaggle/input/rsna-extracted-data/train_images...</td>\n",
       "      <td>0</td>\n",
       "    </tr>\n",
       "    <tr>\n",
       "      <th>3</th>\n",
       "      <td>19630</td>\n",
       "      <td>2</td>\n",
       "      <td>2105722026</td>\n",
       "      <td>L</td>\n",
       "      <td>CC</td>\n",
       "      <td>67.0</td>\n",
       "      <td>0</td>\n",
       "      <td>0</td>\n",
       "      <td>0</td>\n",
       "      <td>NaN</td>\n",
       "      <td>0</td>\n",
       "      <td>NaN</td>\n",
       "      <td>48</td>\n",
       "      <td>False</td>\n",
       "      <td>/kaggle/input/rsna-extracted-data/train_images...</td>\n",
       "      <td>0</td>\n",
       "    </tr>\n",
       "    <tr>\n",
       "      <th>4</th>\n",
       "      <td>19630</td>\n",
       "      <td>2</td>\n",
       "      <td>462258563</td>\n",
       "      <td>R</td>\n",
       "      <td>CC</td>\n",
       "      <td>67.0</td>\n",
       "      <td>0</td>\n",
       "      <td>0</td>\n",
       "      <td>0</td>\n",
       "      <td>NaN</td>\n",
       "      <td>0</td>\n",
       "      <td>NaN</td>\n",
       "      <td>48</td>\n",
       "      <td>False</td>\n",
       "      <td>/kaggle/input/rsna-extracted-data/train_images...</td>\n",
       "      <td>0</td>\n",
       "    </tr>\n",
       "  </tbody>\n",
       "</table>\n",
       "</div>"
      ],
      "text/plain": [
       "   patient_id  site_id    image_id laterality view   age  cancer  biopsy  \\\n",
       "0       19630        2  1121595436          R   CC  67.0       0       0   \n",
       "1       19630        2  1405960470          L  MLO  67.0       0       0   \n",
       "2       19630        2  1655504802          R  MLO  67.0       0       0   \n",
       "3       19630        2  2105722026          L   CC  67.0       0       0   \n",
       "4       19630        2   462258563          R   CC  67.0       0       0   \n",
       "\n",
       "   invasive  BIRADS  implant density  machine_id  difficult_negative_case  \\\n",
       "0         0     NaN        0     NaN          48                    False   \n",
       "1         0     NaN        0     NaN          48                    False   \n",
       "2         0     NaN        0     NaN          48                    False   \n",
       "3         0     NaN        0     NaN          48                    False   \n",
       "4         0     NaN        0     NaN          48                    False   \n",
       "\n",
       "                                                path  label  \n",
       "0  /kaggle/input/rsna-extracted-data/train_images...      0  \n",
       "1  /kaggle/input/rsna-extracted-data/train_images...      0  \n",
       "2  /kaggle/input/rsna-extracted-data/train_images...      0  \n",
       "3  /kaggle/input/rsna-extracted-data/train_images...      0  \n",
       "4  /kaggle/input/rsna-extracted-data/train_images...      0  "
      ]
     },
     "execution_count": 4,
     "metadata": {},
     "output_type": "execute_result"
    }
   ],
   "source": [
    "from sklearn.model_selection import StratifiedShuffleSplit\n",
    "base_dir = \"/kaggle/input/rsna-extracted-data/train_images_extracted_1024/\"\n",
    "# read in csv data\n",
    "df = pd.read_csv(\"/kaggle/input/rsna-breast-cancer-detection/train.csv\")\n",
    "df[\"path\"] = base_dir + df.patient_id.astype(\"str\") +\"/\"+ df.image_id.astype(\"str\") +\".png\"\n",
    "df = df.sort_values(\"path\",ascending=True)\n",
    "\n",
    "# create new label column\n",
    "df[\"label\"] = 0\n",
    "df.loc[(df.cancer==1) | (df.biopsy ==1)|(df.difficult_negative_case ==True),\"label\"] = 1\n",
    "\n",
    "split_df = df[[\"patient_id\",\"age\",\"cancer\",\"biopsy\",\"invasive\",\"BIRADS\"\n",
    "              ,\"site_id\",\"machine_id\"]]\n",
    "\n",
    "# perform a straified split for balance\n",
    "sss = StratifiedShuffleSplit(n_splits=1, test_size=0.2, random_state=12)\n",
    "split_df = split_df.groupby(\"patient_id\").max()\n",
    "X = split_df\n",
    "y = split_df.pop(\"cancer\")\n",
    "\n",
    "\n",
    "for (train_index, test_index) in sss.split(X, y):\n",
    "    train_patients = pd.DataFrame({\"patient_id\": X.iloc[train_index].index})\n",
    "    val_patients = pd.DataFrame({\"patient_id\":X.iloc[test_index].index})\n",
    "    \n",
    "# merge the image level info onto the patient level splits\n",
    "val_df = val_patients.merge(df, on =\"patient_id\",how = \"left\")\n",
    "train_df = train_patients.merge(df, on =\"patient_id\",how = \"left\")\n",
    "\n",
    "val_df.head()"
   ]
  },
  {
   "cell_type": "markdown",
   "id": "4248f412",
   "metadata": {
    "papermill": {
     "duration": 0.007975,
     "end_time": "2023-05-11T19:42:49.150475",
     "exception": false,
     "start_time": "2023-05-11T19:42:49.142500",
     "status": "completed"
    },
    "tags": []
   },
   "source": [
    "### Fix paths which failed to save during extraction"
   ]
  },
  {
   "cell_type": "code",
   "execution_count": 5,
   "id": "e316209c",
   "metadata": {
    "execution": {
     "iopub.execute_input": "2023-05-11T19:42:49.167560Z",
     "iopub.status.busy": "2023-05-11T19:42:49.167219Z",
     "iopub.status.idle": "2023-05-11T19:44:59.699440Z",
     "shell.execute_reply": "2023-05-11T19:44:59.697940Z"
    },
    "papermill": {
     "duration": 130.543374,
     "end_time": "2023-05-11T19:44:59.701783",
     "exception": false,
     "start_time": "2023-05-11T19:42:49.158409",
     "status": "completed"
    },
    "tags": []
   },
   "outputs": [
    {
     "name": "stdout",
     "output_type": "stream",
     "text": [
      "Replaced 2 paths\n",
      "Replaced 3 paths\n"
     ]
    }
   ],
   "source": [
    "def check_and_correct_paths(df):\n",
    "    corrected_df = df.copy()\n",
    "    replaced_count = 0\n",
    "\n",
    "    for index, row in corrected_df.iterrows():\n",
    "        path = row['path']\n",
    "        \n",
    "        if not os.path.exists(path):\n",
    "            patient, image = path.split('/')[-2:]\n",
    "            alternative_path = f'/kaggle/input/rsna-custom-pipeline4/train_images_processed_1024/{patient}/{image}'\n",
    "\n",
    "            if os.path.exists(alternative_path):\n",
    "                corrected_df.loc[index, 'path'] = alternative_path\n",
    "                replaced_count += 1\n",
    "            else:\n",
    "                print(f\"Both paths not found for patient {patient} and image {image}\")\n",
    "\n",
    "    print(f\"Replaced {replaced_count} paths\")\n",
    "    return corrected_df\n",
    "train_df=check_and_correct_paths(train_df)\n",
    "val_df = check_and_correct_paths(val_df)"
   ]
  },
  {
   "cell_type": "markdown",
   "id": "7d8cbab2",
   "metadata": {
    "papermill": {
     "duration": 0.007737,
     "end_time": "2023-05-11T19:44:59.717707",
     "exception": false,
     "start_time": "2023-05-11T19:44:59.709970",
     "status": "completed"
    },
    "tags": []
   },
   "source": [
    "### Build the dataset  \n",
    "Cases with cancer are upsampled (not with biopsy or difficult_negative_case)"
   ]
  },
  {
   "cell_type": "code",
   "execution_count": 6,
   "id": "de29aebf",
   "metadata": {
    "execution": {
     "iopub.execute_input": "2023-05-11T19:44:59.736110Z",
     "iopub.status.busy": "2023-05-11T19:44:59.734526Z",
     "iopub.status.idle": "2023-05-11T19:45:00.507789Z",
     "shell.execute_reply": "2023-05-11T19:45:00.506785Z"
    },
    "papermill": {
     "duration": 0.784712,
     "end_time": "2023-05-11T19:45:00.510374",
     "exception": false,
     "start_time": "2023-05-11T19:44:59.725662",
     "status": "completed"
    },
    "tags": []
   },
   "outputs": [],
   "source": [
    "def decode(path, img_size = (1024,1024)):\n",
    "    file_bytes = tf.io.read_file(path)\n",
    "    img = tf.image.decode_png(file_bytes, channels=3)\n",
    "    img = tf.image.resize(img, img_size)\n",
    "    return img\n",
    "\n",
    "def decode_with_labels(path, label):\n",
    "    return decode(path), tf.cast(label, tf.float32)\n",
    "\n",
    "def build_dataset(paths,decode_fn, labels=None,batch_size=32, img_size = (1024,1024)):\n",
    "    slices = paths if labels is None else (paths, labels)    \n",
    "    ds = tf.data.Dataset.from_tensor_slices(slices)\n",
    "    ds = ds.map(decode_fn, num_parallel_calls=2)\n",
    "    ds = ds.batch(batch_size, drop_remainder=False)\n",
    "    return ds\n",
    "\n",
    "def upsample(train_paths, train_labels,cancer_paths_train,cancer_labels_train, upsamples=8):\n",
    "\n",
    "    for _ in range(upsamples):\n",
    "        train_paths += cancer_paths_train\n",
    "        train_labels += cancer_labels_train\n",
    "        \n",
    "    random.Random(SEED).shuffle(train_paths)\n",
    "    random.Random(SEED).shuffle(train_labels)\n",
    "    return train_paths, train_labels\n",
    "    \n",
    "    \n",
    "\n",
    "img_size = (1024,1024)\n",
    "\n",
    "val_paths = list(val_df.path)\n",
    "val_labels = list(val_df.cancer)\n",
    "\n",
    "cancer_instances = train_df.loc[train_df.cancer==1]\n",
    "\n",
    "cancer_paths_train = list(cancer_instances.path)\n",
    "cancer_labels_train = list(cancer_instances.cancer)\n",
    "\n",
    "train_paths = list(train_df.path)\n",
    "train_labels = list(train_df.label)\n",
    "\n",
    "train_paths, train_labels = upsample(train_paths, train_labels,\n",
    "                                     cancer_paths_train,cancer_labels_train)\n",
    "\n",
    "val_ds = build_dataset(val_paths,decode_with_labels ,labels = val_labels, batch_size=32)\n",
    "train_ds = build_dataset(train_paths,decode_with_labels, labels=train_labels, batch_size=32)"
   ]
  },
  {
   "cell_type": "markdown",
   "id": "1fa2c46a",
   "metadata": {
    "papermill": {
     "duration": 0.007926,
     "end_time": "2023-05-11T19:45:00.526400",
     "exception": false,
     "start_time": "2023-05-11T19:45:00.518474",
     "status": "completed"
    },
    "tags": []
   },
   "source": [
    "### Model building functions"
   ]
  },
  {
   "cell_type": "markdown",
   "id": "d09b7115",
   "metadata": {
    "papermill": {
     "duration": 0.007784,
     "end_time": "2023-05-11T19:45:00.542303",
     "exception": false,
     "start_time": "2023-05-11T19:45:00.534519",
     "status": "completed"
    },
    "tags": []
   },
   "source": [
    "Best params from tuning:  \n",
    "Trial 1 summary  \n",
    "Hyperparameters:  \n",
    "train_layers: 16  \n",
    "dropout: 0.3  \n",
    "learning_rate: 0.00016449982036188414  \n",
    "Score: 0.7485799193382263  "
   ]
  },
  {
   "cell_type": "code",
   "execution_count": 7,
   "id": "242a745c",
   "metadata": {
    "execution": {
     "iopub.execute_input": "2023-05-11T19:45:00.559672Z",
     "iopub.status.busy": "2023-05-11T19:45:00.559328Z",
     "iopub.status.idle": "2023-05-11T19:45:00.571597Z",
     "shell.execute_reply": "2023-05-11T19:45:00.570666Z"
    },
    "papermill": {
     "duration": 0.023492,
     "end_time": "2023-05-11T19:45:00.573770",
     "exception": false,
     "start_time": "2023-05-11T19:45:00.550278",
     "status": "completed"
    },
    "tags": []
   },
   "outputs": [],
   "source": [
    "def get_data_augmentation():\n",
    "    data_augmentation = keras.Sequential(\n",
    "        [\n",
    "        layers.RandomRotation(0.1),\n",
    "\n",
    "        ]\n",
    "    )\n",
    "    return data_augmentation\n",
    "\n",
    "from keras import backend as K\n",
    "\n",
    "def get_conv_base():\n",
    "    conv_base = keras.applications.ResNet50V2(\n",
    "    include_top=False,\n",
    "    weights='imagenet',\n",
    "    input_shape=(*img_size,3),\n",
    "    #drop_connect_rate=0.4,\n",
    "    )\n",
    "\n",
    "    trainable_layers = 45\n",
    "\n",
    "    for layer in conv_base.layers[:-trainable_layers]:\n",
    "        layer.trainable = False\n",
    "    \n",
    "    for layer in conv_base.layers[-trainable_layers:]:\n",
    "        if not isinstance(layer, layers.BatchNormalization):\n",
    "            layer.trainable = True\n",
    "    return conv_base\n",
    "\n",
    "def get_metrics():\n",
    "    auc= tf.keras.metrics.AUC(\n",
    "    num_thresholds=200,\n",
    "    curve='ROC',\n",
    "    summation_method='interpolation',\n",
    "    )\n",
    "\n",
    "    pr = tf.keras.metrics.AUC(\n",
    "    num_thresholds=200,\n",
    "    curve='PR',\n",
    "    summation_method='interpolation',)\n",
    "    \n",
    "    acc = tf.keras.metrics.BinaryAccuracy(\n",
    "            name='binary_accuracy', dtype=None, threshold=0.5\n",
    "        )\n",
    "    \n",
    "    metrics = [auc,pr,acc]\n",
    "    return metrics\n",
    "\n",
    "def get_optimizer():\n",
    "    optimizer = tf.keras.optimizers.Adam(\n",
    "    learning_rate=0.00016,\n",
    "    beta_1=0.9,\n",
    "    beta_2=0.999,\n",
    "    )\n",
    "    return optimizer\n",
    "\n",
    "def get_loss():\n",
    "    loss_fn = tf.keras.losses.BinaryCrossentropy(\n",
    "    label_smoothing=0.0,)\n",
    "    return loss_fn"
   ]
  },
  {
   "cell_type": "markdown",
   "id": "4aa161b6",
   "metadata": {
    "papermill": {
     "duration": 0.008719,
     "end_time": "2023-05-11T19:45:00.590497",
     "exception": false,
     "start_time": "2023-05-11T19:45:00.581778",
     "status": "completed"
    },
    "tags": []
   },
   "source": [
    "### Build the model"
   ]
  },
  {
   "cell_type": "code",
   "execution_count": 8,
   "id": "5103b8ea",
   "metadata": {
    "execution": {
     "iopub.execute_input": "2023-05-11T19:45:00.611244Z",
     "iopub.status.busy": "2023-05-11T19:45:00.610299Z",
     "iopub.status.idle": "2023-05-11T19:45:05.299473Z",
     "shell.execute_reply": "2023-05-11T19:45:05.296626Z"
    },
    "papermill": {
     "duration": 4.703429,
     "end_time": "2023-05-11T19:45:05.302766",
     "exception": false,
     "start_time": "2023-05-11T19:45:00.599337",
     "status": "completed"
    },
    "tags": []
   },
   "outputs": [
    {
     "name": "stdout",
     "output_type": "stream",
     "text": [
      "Downloading data from https://storage.googleapis.com/tensorflow/keras-applications/resnet/resnet50v2_weights_tf_dim_ordering_tf_kernels_notop.h5\n",
      "94674944/94668760 [==============================] - 1s 0us/step\n",
      "94683136/94668760 [==============================] - 1s 0us/step\n",
      "Model: \"model\"\n",
      "_________________________________________________________________\n",
      "Layer (type)                 Output Shape              Param #   \n",
      "=================================================================\n",
      "input_1 (InputLayer)         [(None, 1024, 1024, 3)]   0         \n",
      "_________________________________________________________________\n",
      "tf.math.truediv (TFOpLambda) (None, 1024, 1024, 3)     0         \n",
      "_________________________________________________________________\n",
      "tf.math.subtract (TFOpLambda (None, 1024, 1024, 3)     0         \n",
      "_________________________________________________________________\n",
      "resnet50v2 (Functional)      (None, 32, 32, 2048)      23564800  \n",
      "_________________________________________________________________\n",
      "global_average_pooling2d (Gl (None, 2048)              0         \n",
      "_________________________________________________________________\n",
      "dense (Dense)                (None, 16)                32784     \n",
      "_________________________________________________________________\n",
      "batch_normalization (BatchNo (None, 16)                64        \n",
      "_________________________________________________________________\n",
      "activation (Activation)      (None, 16)                0         \n",
      "_________________________________________________________________\n",
      "dropout (Dropout)            (None, 16)                0         \n",
      "_________________________________________________________________\n",
      "dense_1 (Dense)              (None, 1)                 17        \n",
      "=================================================================\n",
      "Total params: 23,597,665\n",
      "Trainable params: 15,857,729\n",
      "Non-trainable params: 7,739,936\n",
      "_________________________________________________________________\n"
     ]
    }
   ],
   "source": [
    "def build_model():\n",
    "    inputs = keras.Input(shape=(*img_size, 3))\n",
    "\n",
    "    x = keras.applications.resnet_v2.preprocess_input(inputs)\n",
    "\n",
    "    x = get_conv_base()(x)\n",
    "\n",
    "    x = layers.GlobalAveragePooling2D()(x)\n",
    "\n",
    "    x = layers.Dense(16)(x)\n",
    "    x = layers.BatchNormalization()(x)\n",
    "    x = layers.Activation(\"relu\")(x)\n",
    "    x = layers.Dropout(0.3)(x)\n",
    "\n",
    "\n",
    "    outputs = layers.Dense(1, activation=\"sigmoid\")(x)\n",
    "\n",
    "    model = keras.Model(inputs=inputs, outputs=outputs)\n",
    "    \n",
    "    model.compile(loss=\"binary_crossentropy\",\n",
    "              optimizer=get_optimizer(),\n",
    "              metrics=get_metrics())\n",
    "    \n",
    "    return model \n",
    "\n",
    "with strategy.scope():  \n",
    "    model = build_model()\n",
    "\n",
    "model.summary()"
   ]
  },
  {
   "cell_type": "code",
   "execution_count": 9,
   "id": "9ab24dcc",
   "metadata": {
    "execution": {
     "iopub.execute_input": "2023-05-11T19:45:05.327090Z",
     "iopub.status.busy": "2023-05-11T19:45:05.326760Z",
     "iopub.status.idle": "2023-05-11T19:45:06.644494Z",
     "shell.execute_reply": "2023-05-11T19:45:06.638119Z"
    },
    "papermill": {
     "duration": 1.331069,
     "end_time": "2023-05-11T19:45:06.647797",
     "exception": false,
     "start_time": "2023-05-11T19:45:05.316728",
     "status": "completed"
    },
    "tags": []
   },
   "outputs": [
    {
     "data": {
      "image/png": "[encoded data removed]",
      "text/plain": [
       "<IPython.core.display.Image object>"
      ]
     },
     "execution_count": 9,
     "metadata": {},
     "output_type": "execute_result"
    }
   ],
   "source": [
    "tf.keras.utils.plot_model(model, rankdir=\"UD\", show_shapes=True)"
   ]
  },
  {
   "cell_type": "code",
   "execution_count": 10,
   "id": "6bdb280f",
   "metadata": {
    "execution": {
     "iopub.execute_input": "2023-05-11T19:45:06.686695Z",
     "iopub.status.busy": "2023-05-11T19:45:06.686273Z",
     "iopub.status.idle": "2023-05-11T19:45:06.696995Z",
     "shell.execute_reply": "2023-05-11T19:45:06.696122Z"
    },
    "papermill": {
     "duration": 0.032913,
     "end_time": "2023-05-11T19:45:06.699744",
     "exception": false,
     "start_time": "2023-05-11T19:45:06.666831",
     "status": "completed"
    },
    "tags": []
   },
   "outputs": [],
   "source": [
    "\n",
    "\n",
    "callbacks = [\n",
    "    keras.callbacks.ModelCheckpoint(\n",
    "        filepath=\"ResNet_model_best_auc.keras\",\n",
    "        save_best_only=True,\n",
    "        monitor=\"val_auc\",\n",
    "        mode = 'max'),\n",
    "    \n",
    "    \n",
    "    keras.callbacks.EarlyStopping(\n",
    "        monitor=\"val_loss\",\n",
    "        min_delta=0,\n",
    "        patience=1,\n",
    "        verbose=0,\n",
    "        restore_best_weights=True,\n",
    "    ),\n",
    "    \n",
    "    \n",
    "]"
   ]
  },
  {
   "cell_type": "markdown",
   "id": "8e2446ed",
   "metadata": {
    "papermill": {
     "duration": 0.014077,
     "end_time": "2023-05-11T19:45:06.728567",
     "exception": false,
     "start_time": "2023-05-11T19:45:06.714490",
     "status": "completed"
    },
    "tags": []
   },
   "source": [
    "### Train the model"
   ]
  },
  {
   "cell_type": "code",
   "execution_count": 11,
   "id": "e27adbee",
   "metadata": {
    "execution": {
     "iopub.execute_input": "2023-05-11T19:45:06.758219Z",
     "iopub.status.busy": "2023-05-11T19:45:06.757840Z",
     "iopub.status.idle": "2023-05-11T21:38:40.828059Z",
     "shell.execute_reply": "2023-05-11T21:38:40.825836Z"
    },
    "papermill": {
     "duration": 6814.102008,
     "end_time": "2023-05-11T21:38:40.844552",
     "exception": false,
     "start_time": "2023-05-11T19:45:06.742544",
     "status": "completed"
    },
    "tags": []
   },
   "outputs": [],
   "source": [
    "history = model.fit(\n",
    "    train_ds,\n",
    "    epochs=10,\n",
    "    validation_data=val_ds,\n",
    "    callbacks=callbacks,\n",
    "    verbose = 0)\n",
    "\n",
    "clear_output()"
   ]
  },
  {
   "cell_type": "markdown",
   "id": "49b5b879",
   "metadata": {
    "papermill": {
     "duration": 0.010031,
     "end_time": "2023-05-11T21:38:40.866915",
     "exception": false,
     "start_time": "2023-05-11T21:38:40.856884",
     "status": "completed"
    },
    "tags": []
   },
   "source": [
    "### Training Results"
   ]
  },
  {
   "cell_type": "code",
   "execution_count": 12,
   "id": "607118fe",
   "metadata": {
    "execution": {
     "iopub.execute_input": "2023-05-11T21:38:40.891742Z",
     "iopub.status.busy": "2023-05-11T21:38:40.890944Z",
     "iopub.status.idle": "2023-05-11T21:38:40.955793Z",
     "shell.execute_reply": "2023-05-11T21:38:40.954598Z"
    },
    "papermill": {
     "duration": 0.081542,
     "end_time": "2023-05-11T21:38:40.958512",
     "exception": false,
     "start_time": "2023-05-11T21:38:40.876970",
     "status": "completed"
    },
    "tags": []
   },
   "outputs": [
    {
     "data": {
      "text/html": [
       "<div>\n",
       "<style scoped>\n",
       "    .dataframe tbody tr th:only-of-type {\n",
       "        vertical-align: middle;\n",
       "    }\n",
       "\n",
       "    .dataframe tbody tr th {\n",
       "        vertical-align: top;\n",
       "    }\n",
       "\n",
       "    .dataframe thead th {\n",
       "        text-align: right;\n",
       "    }\n",
       "</style>\n",
       "<table border=\"1\" class=\"dataframe\">\n",
       "  <thead>\n",
       "    <tr style=\"text-align: right;\">\n",
       "      <th></th>\n",
       "      <th>loss</th>\n",
       "      <th>auc</th>\n",
       "      <th>auc_1</th>\n",
       "      <th>binary_accuracy</th>\n",
       "      <th>val_loss</th>\n",
       "      <th>val_auc</th>\n",
       "      <th>val_auc_1</th>\n",
       "      <th>val_binary_accuracy</th>\n",
       "    </tr>\n",
       "  </thead>\n",
       "  <tbody>\n",
       "    <tr>\n",
       "      <th>0</th>\n",
       "      <td>0.593188</td>\n",
       "      <td>0.701625</td>\n",
       "      <td>0.539153</td>\n",
       "      <td>0.698272</td>\n",
       "      <td>0.210521</td>\n",
       "      <td>0.730128</td>\n",
       "      <td>0.169093</td>\n",
       "      <td>0.975478</td>\n",
       "    </tr>\n",
       "    <tr>\n",
       "      <th>1</th>\n",
       "      <td>0.388193</td>\n",
       "      <td>0.835757</td>\n",
       "      <td>0.788015</td>\n",
       "      <td>0.857765</td>\n",
       "      <td>0.163153</td>\n",
       "      <td>0.721409</td>\n",
       "      <td>0.138549</td>\n",
       "      <td>0.974106</td>\n",
       "    </tr>\n",
       "    <tr>\n",
       "      <th>2</th>\n",
       "      <td>0.315489</td>\n",
       "      <td>0.886178</td>\n",
       "      <td>0.856424</td>\n",
       "      <td>0.892299</td>\n",
       "      <td>0.213196</td>\n",
       "      <td>0.670457</td>\n",
       "      <td>0.113869</td>\n",
       "      <td>0.941166</td>\n",
       "    </tr>\n",
       "  </tbody>\n",
       "</table>\n",
       "</div>"
      ],
      "text/plain": [
       "       loss       auc     auc_1  binary_accuracy  val_loss   val_auc  \\\n",
       "0  0.593188  0.701625  0.539153         0.698272  0.210521  0.730128   \n",
       "1  0.388193  0.835757  0.788015         0.857765  0.163153  0.721409   \n",
       "2  0.315489  0.886178  0.856424         0.892299  0.213196  0.670457   \n",
       "\n",
       "   val_auc_1  val_binary_accuracy  \n",
       "0   0.169093             0.975478  \n",
       "1   0.138549             0.974106  \n",
       "2   0.113869             0.941166  "
      ]
     },
     "execution_count": 12,
     "metadata": {},
     "output_type": "execute_result"
    }
   ],
   "source": [
    "history_df = pd.DataFrame(history.history)\n",
    "history_df.head()"
   ]
  },
  {
   "cell_type": "code",
   "execution_count": 13,
   "id": "3672cfa8",
   "metadata": {
    "execution": {
     "iopub.execute_input": "2023-05-11T21:38:40.981924Z",
     "iopub.status.busy": "2023-05-11T21:38:40.981572Z",
     "iopub.status.idle": "2023-05-11T21:38:40.996852Z",
     "shell.execute_reply": "2023-05-11T21:38:40.995785Z"
    },
    "papermill": {
     "duration": 0.029763,
     "end_time": "2023-05-11T21:38:40.999276",
     "exception": false,
     "start_time": "2023-05-11T21:38:40.969513",
     "status": "completed"
    },
    "tags": []
   },
   "outputs": [
    {
     "data": {
      "text/html": [
       "<div>\n",
       "<style scoped>\n",
       "    .dataframe tbody tr th:only-of-type {\n",
       "        vertical-align: middle;\n",
       "    }\n",
       "\n",
       "    .dataframe tbody tr th {\n",
       "        vertical-align: top;\n",
       "    }\n",
       "\n",
       "    .dataframe thead th {\n",
       "        text-align: right;\n",
       "    }\n",
       "</style>\n",
       "<table border=\"1\" class=\"dataframe\">\n",
       "  <thead>\n",
       "    <tr style=\"text-align: right;\">\n",
       "      <th></th>\n",
       "      <th>loss</th>\n",
       "      <th>auc</th>\n",
       "      <th>auc_1</th>\n",
       "      <th>binary_accuracy</th>\n",
       "      <th>val_loss</th>\n",
       "      <th>val_auc</th>\n",
       "      <th>val_auc_1</th>\n",
       "      <th>val_binary_accuracy</th>\n",
       "    </tr>\n",
       "  </thead>\n",
       "  <tbody>\n",
       "    <tr>\n",
       "      <th>0</th>\n",
       "      <td>0.593188</td>\n",
       "      <td>0.701625</td>\n",
       "      <td>0.539153</td>\n",
       "      <td>0.698272</td>\n",
       "      <td>0.210521</td>\n",
       "      <td>0.730128</td>\n",
       "      <td>0.169093</td>\n",
       "      <td>0.975478</td>\n",
       "    </tr>\n",
       "    <tr>\n",
       "      <th>1</th>\n",
       "      <td>0.388193</td>\n",
       "      <td>0.835757</td>\n",
       "      <td>0.788015</td>\n",
       "      <td>0.857765</td>\n",
       "      <td>0.163153</td>\n",
       "      <td>0.721409</td>\n",
       "      <td>0.138549</td>\n",
       "      <td>0.974106</td>\n",
       "    </tr>\n",
       "    <tr>\n",
       "      <th>2</th>\n",
       "      <td>0.315489</td>\n",
       "      <td>0.886178</td>\n",
       "      <td>0.856424</td>\n",
       "      <td>0.892299</td>\n",
       "      <td>0.213196</td>\n",
       "      <td>0.670457</td>\n",
       "      <td>0.113869</td>\n",
       "      <td>0.941166</td>\n",
       "    </tr>\n",
       "  </tbody>\n",
       "</table>\n",
       "</div>"
      ],
      "text/plain": [
       "       loss       auc     auc_1  binary_accuracy  val_loss   val_auc  \\\n",
       "0  0.593188  0.701625  0.539153         0.698272  0.210521  0.730128   \n",
       "1  0.388193  0.835757  0.788015         0.857765  0.163153  0.721409   \n",
       "2  0.315489  0.886178  0.856424         0.892299  0.213196  0.670457   \n",
       "\n",
       "   val_auc_1  val_binary_accuracy  \n",
       "0   0.169093             0.975478  \n",
       "1   0.138549             0.974106  \n",
       "2   0.113869             0.941166  "
      ]
     },
     "execution_count": 13,
     "metadata": {},
     "output_type": "execute_result"
    }
   ],
   "source": [
    "history_df.tail()"
   ]
  },
  {
   "cell_type": "code",
   "execution_count": 14,
   "id": "21bacada",
   "metadata": {
    "execution": {
     "iopub.execute_input": "2023-05-11T21:38:41.024292Z",
     "iopub.status.busy": "2023-05-11T21:38:41.022556Z",
     "iopub.status.idle": "2023-05-11T21:38:41.424764Z",
     "shell.execute_reply": "2023-05-11T21:38:41.423811Z"
    },
    "papermill": {
     "duration": 0.416487,
     "end_time": "2023-05-11T21:38:41.427112",
     "exception": false,
     "start_time": "2023-05-11T21:38:41.010625",
     "status": "completed"
    },
    "tags": []
   },
   "outputs": [
    {
     "data": {
      "image/png": "[encoded data removed]",
      "text/plain": [
       "<Figure size 432x288 with 1 Axes>"
      ]
     },
     "metadata": {
      "needs_background": "light"
     },
     "output_type": "display_data"
    }
   ],
   "source": [
    "plt.plot(history_df.index, history_df.loss, color=\"red\", label=\"Training Loss\")\n",
    "plt.plot(history_df.index, history_df.val_loss, label=\"Validation Loss\")\n",
    "\n",
    "plt.title(\"Training and Validation Loss\")\n",
    "plt.xlabel(\"Epoch\")\n",
    "plt.ylabel(\"Loss\")\n",
    "plt.legend()\n",
    "\n",
    "plt.show()"
   ]
  },
  {
   "cell_type": "code",
   "execution_count": 15,
   "id": "7bf6c1af",
   "metadata": {
    "execution": {
     "iopub.execute_input": "2023-05-11T21:38:41.451647Z",
     "iopub.status.busy": "2023-05-11T21:38:41.450085Z",
     "iopub.status.idle": "2023-05-11T21:38:41.458175Z",
     "shell.execute_reply": "2023-05-11T21:38:41.457225Z"
    },
    "papermill": {
     "duration": 0.022035,
     "end_time": "2023-05-11T21:38:41.460259",
     "exception": false,
     "start_time": "2023-05-11T21:38:41.438224",
     "status": "completed"
    },
    "tags": []
   },
   "outputs": [
    {
     "name": "stdout",
     "output_type": "stream",
     "text": [
      "Best Loss: \n",
      "0.16315317153930664\n",
      "at epoch  2\n"
     ]
    }
   ],
   "source": [
    "\n",
    "print(\"Best Loss: \")\n",
    "print(min(history_df.val_loss))\n",
    "print('at epoch ', 1+ history_df.val_loss.idxmin())\n"
   ]
  },
  {
   "cell_type": "markdown",
   "id": "f222ffbc",
   "metadata": {
    "papermill": {
     "duration": 0.010674,
     "end_time": "2023-05-11T21:38:41.482039",
     "exception": false,
     "start_time": "2023-05-11T21:38:41.471365",
     "status": "completed"
    },
    "tags": []
   },
   "source": [
    "### Grouping cases and calculating final results"
   ]
  },
  {
   "cell_type": "code",
   "execution_count": 16,
   "id": "556f44e0",
   "metadata": {
    "execution": {
     "iopub.execute_input": "2023-05-11T21:38:41.506094Z",
     "iopub.status.busy": "2023-05-11T21:38:41.504587Z",
     "iopub.status.idle": "2023-05-11T21:38:44.484064Z",
     "shell.execute_reply": "2023-05-11T21:38:44.482854Z"
    },
    "papermill": {
     "duration": 2.994275,
     "end_time": "2023-05-11T21:38:44.487100",
     "exception": false,
     "start_time": "2023-05-11T21:38:41.492825",
     "status": "completed"
    },
    "tags": []
   },
   "outputs": [],
   "source": [
    "# Get the best AUC model. This may differ from the best loss model.\n",
    "model = keras.models.load_model(\"/kaggle/working/ResNet_model_best_auc.keras\",)"
   ]
  },
  {
   "cell_type": "code",
   "execution_count": 17,
   "id": "f104a1ef",
   "metadata": {
    "execution": {
     "iopub.execute_input": "2023-05-11T21:38:44.511384Z",
     "iopub.status.busy": "2023-05-11T21:38:44.510759Z",
     "iopub.status.idle": "2023-05-11T21:48:03.049673Z",
     "shell.execute_reply": "2023-05-11T21:48:03.048567Z"
    },
    "papermill": {
     "duration": 558.554047,
     "end_time": "2023-05-11T21:48:03.052591",
     "exception": false,
     "start_time": "2023-05-11T21:38:44.498544",
     "status": "completed"
    },
    "tags": []
   },
   "outputs": [],
   "source": [
    "from sklearn.metrics import roc_auc_score,precision_recall_curve, auc, fbeta_score\n",
    "\n",
    "\n",
    "preds = model.predict(val_ds)\n",
    "clear_output()\n",
    "val_df['preds'] = preds\n",
    "\n",
    "# We want the maximum (not average) prediction of risk in situtations involving health\n",
    "grouped = val_df.groupby([\"patient_id\",\"laterality\"]).max()\n",
    "\n",
    "precision, recall, thresholds = precision_recall_curve(grouped.cancer, grouped.preds)\n",
    "pr_score = auc(recall, precision)\n",
    "\n",
    "thresh = .5\n",
    "fbeta = fbeta_score((grouped.cancer>thresh).astype(int),(grouped.preds>thresh).astype(int), beta=2)# weigh recall more"
   ]
  },
  {
   "cell_type": "code",
   "execution_count": 18,
   "id": "080db204",
   "metadata": {
    "execution": {
     "iopub.execute_input": "2023-05-11T21:48:03.077600Z",
     "iopub.status.busy": "2023-05-11T21:48:03.077230Z",
     "iopub.status.idle": "2023-05-11T21:48:03.095203Z",
     "shell.execute_reply": "2023-05-11T21:48:03.094096Z"
    },
    "papermill": {
     "duration": 0.033176,
     "end_time": "2023-05-11T21:48:03.097854",
     "exception": false,
     "start_time": "2023-05-11T21:48:03.064678",
     "status": "completed"
    },
    "tags": []
   },
   "outputs": [
    {
     "name": "stdout",
     "output_type": "stream",
     "text": [
      "Final auROC:  0.7813942807683052\n",
      "Final auPR:  0.22049217230240403\n",
      "Final fbeta:  0.3093812375249501\n"
     ]
    }
   ],
   "source": [
    "print(\"Final auROC: \", roc_auc_score(grouped.cancer, grouped.preds))\n",
    "print(\"Final auPR: \", pr_score)\n",
    "print(\"Final fbeta: \", fbeta)"
   ]
  }
 ],
 "metadata": {
  "kernelspec": {
   "display_name": "Python 3",
   "language": "python",
   "name": "python3"
  },
  "language_info": {
   "codemirror_mode": {
    "name": "ipython",
    "version": 3
   },
   "file_extension": ".py",
   "mimetype": "text/x-python",
   "name": "python",
   "nbconvert_exporter": "python",
   "pygments_lexer": "ipython3",
   "version": "3.7.12"
  },
  "papermill": {
   "default_parameters": {},
   "duration": 7540.578175,
   "end_time": "2023-05-11T21:48:07.420439",
   "environment_variables": {},
   "exception": null,
   "input_path": "__notebook__.ipynb",
   "output_path": "__notebook__.ipynb",
   "parameters": {},
   "start_time": "2023-05-11T19:42:26.842264",
   "version": "2.3.4"
  }
 },
 "nbformat": 4,
 "nbformat_minor": 5
}
